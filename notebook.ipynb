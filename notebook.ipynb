{
 "cells": [
  {
   "cell_type": "code",
   "execution_count": 1,
   "metadata": {},
   "outputs": [],
   "source": [
    "import torch\n",
    "\n",
    "a = torch.randn(1,1,5,3)\n",
    "x = torch.randn(5,5,1,3)"
   ]
  },
  {
   "cell_type": "code",
   "execution_count": 2,
   "metadata": {},
   "outputs": [
    {
     "data": {
      "text/plain": [
       "torch.Size([5, 5, 5, 3])"
      ]
     },
     "execution_count": 2,
     "metadata": {},
     "output_type": "execute_result"
    }
   ],
   "source": [
    "c = a - x\n",
    "c.shape"
   ]
  },
  {
   "cell_type": "code",
   "execution_count": 4,
   "metadata": {},
   "outputs": [],
   "source": [
    "embed = torch.nn.Embedding(10, 3)"
   ]
  },
  {
   "cell_type": "code",
   "execution_count": 6,
   "metadata": {},
   "outputs": [
    {
     "data": {
      "text/plain": [
       "tensor([[[[[-0.2024,  0.2619,  0.3574],\n",
       "           [ 1.5205, -1.4985, -0.6328],\n",
       "           [-1.2650, -0.5821,  1.6800],\n",
       "           [ 0.6191,  0.0861, -2.1343],\n",
       "           [ 1.1509,  0.0057, -1.9844]]]]], grad_fn=<EmbeddingBackward0>)"
      ]
     },
     "execution_count": 6,
     "metadata": {},
     "output_type": "execute_result"
    }
   ],
   "source": [
    "indices = torch.tensor([0, 1, 2, 3, 4])[None,None,None,:]\n",
    "embed(indices)"
   ]
  },
  {
   "cell_type": "code",
   "execution_count": null,
   "metadata": {},
   "outputs": [],
   "source": []
  },
  {
   "cell_type": "code",
   "execution_count": 70,
   "metadata": {},
   "outputs": [],
   "source": [
    "import torch\n",
    "from torch import nn\n",
    "\n",
    "class PixelTokenizer(torch.nn.Module):\n",
    "    def __init__(self, vocab_size, image_size, low=0.0, high=1.0, per_channel=False, num_channels=3, most_common_classes=None, dim=768):\n",
    "        super().__init__()\n",
    "        self.low = low\n",
    "        self.high = high\n",
    "        self.per_channel = per_channel\n",
    "        self.embed_table = nn.Embedding(vocab_size + 1, dim)\n",
    "        self.mask_token_id = vocab_size\n",
    "        self.num_channels = num_channels\n",
    "        self.vocab_size = vocab_size\n",
    "        self.h = self.w = image_size\n",
    "        self.hw = image_size * image_size\n",
    "        self.pos_embed = nn.Parameter(torch.randn(1, image_size * image_size * num_channels if per_channel else image_size * image_size,\n",
    "                                                        dim) * 0.005)\n",
    "        if per_channel:\n",
    "            classes = torch.linspace(low, high, vocab_size)[None,None,:]\n",
    "        else:\n",
    "            classes = torch.tensor(most_common_classes)[None,None,:,:]\n",
    "\n",
    "        self.register_buffer('classes', classes)\n",
    "\n",
    "    def dists(self, x):\n",
    "        classes = self.classes if len(self.classes.shape) == 4 else self.classes[...,None].repeat(1,1,1, self.num_channels)\n",
    "        if self.per_channel:\n",
    "            return (x.unsqueeze(-2) - classes).pow(2)\n",
    "        else:\n",
    "            return (x.unsqueeze(-2) - classes).pow(2).sum(-1, keepdim=True)\n",
    "\n",
    "    def decode(self, indices, h, w):\n",
    "        c = indices.shape[-1] // (h * w)\n",
    "        if c > 1:\n",
    "            indices = indices.reshape(-1, h * w, c)\n",
    "            indices = indices.reshape(-1, h * w, c).reshape(-1, h, w, c).permute(0, 3, 1, 2)\n",
    "            pixels = self.classes.squeeze()[indices]\n",
    "        else:\n",
    "            indices = indices.reshape(-1, h * w)\n",
    "            pixels = self.classes.squeeze()[indices, :]\n",
    "            c = pixels.shape[-1]\n",
    "            pixels = pixels.reshape(-1, h, w, c).permute(0, 3, 1, 2)\n",
    "\n",
    "        return pixels\n",
    "\n",
    "\n",
    "    def encode(self, x):\n",
    "        b, c, h, w = x.shape\n",
    "        x = x.view(b, c, h * w).transpose(1, 2)\n",
    "        indices = self.dists(x).argmin(-2)\n",
    "        indices = indices.reshape(b, h * w * indices.shape[-1])\n",
    "        return indices\n",
    "\n",
    "    def to_embs(self, indices):\n",
    "        b, hwc = indices.shape\n",
    "        c = hwc // (self.hw)\n",
    "        embeds = self.embed_table(indices) + self.pos_embed.expand(b, -1, -1)\n",
    "        # b, hw, c * dim -> b, c * dim, h, w\n",
    "        # embeds = embeds.permute(0, 2, 1).reshape(b, -1, self.h, self.w * 3)\n",
    "        return embeds\n"
   ]
  },
  {
   "cell_type": "code",
   "execution_count": 71,
   "metadata": {},
   "outputs": [],
   "source": [
    "most_common_classes = [\n",
    "    [0.0, 0.5, 0.3],\n",
    "    [0.8, 0.2, 0.1],\n",
    "    [0.2, 0.1, 0.9],\n",
    "    [0.1, 0.9, 0.2],\n",
    "]\n",
    "\n",
    "tokenizer = PixelTokenizer(3, 32, most_common_classes=most_common_classes)"
   ]
  },
  {
   "cell_type": "code",
   "execution_count": 72,
   "metadata": {},
   "outputs": [],
   "source": [
    "img = torch.rand(1, 3, 32, 32)"
   ]
  },
  {
   "cell_type": "code",
   "execution_count": 73,
   "metadata": {},
   "outputs": [],
   "source": [
    "indices = tokenizer.encode(img)"
   ]
  },
  {
   "cell_type": "code",
   "execution_count": 74,
   "metadata": {},
   "outputs": [],
   "source": [
    "pixels = tokenizer.decode(indices, 32, 32)"
   ]
  },
  {
   "cell_type": "code",
   "execution_count": null,
   "metadata": {},
   "outputs": [],
   "source": []
  },
  {
   "cell_type": "code",
   "execution_count": 111,
   "metadata": {},
   "outputs": [],
   "source": [
    "import torch\n",
    "import safetensors\n",
    "import torch\n",
    "import random\n",
    "from torchvision import transforms as T\n",
    "import torchvision\n",
    "import faiss\n",
    "\n",
    "def open_weights(path):\n",
    "    try: # if \".safetensors\" in path:\n",
    "        state_dict = {}\n",
    "        with safetensors.safe_open(path, \"pt\") as f:\n",
    "            for k in f.keys():\n",
    "                state_dict[k] = f.get_tensor(k)\n",
    "    except:\n",
    "        state_dict = torch.load(path, map_location=\"cpu\")\n",
    "\n",
    "    return state_dict\n",
    "\n",
    "\n",
    "def get_kmeans_clusters(latents=None, dataset_name=\"cifar\", k=256, image_size=32, num_images=2000, verbose=True, niter=100):\n",
    "    transform = T.Compose(\n",
    "        [T.ToTensor(),\n",
    "         T.Resize(image_size),\n",
    "         T.CenterCrop(image_size),]\n",
    "    )\n",
    "\n",
    "    dataset_classes = {\n",
    "        \"cifar\": torchvision.datasets.CIFAR10,\n",
    "        \"celeb-a\": torchvision.datasets.CelebA,\n",
    "        \"flowers102\": torchvision.datasets.Flowers102,\n",
    "    }\n",
    "    dataset_cls = dataset_classes[dataset_name]\n",
    "    dataset = dataset_cls(root='./data', #split='train',\n",
    "                                 download=True, transform=transform)\n",
    "\n",
    "    dataloader = torch.utils.data.DataLoader(\n",
    "        dataset,\n",
    "        shuffle=True,\n",
    "        batch_size=64,\n",
    "        num_workers=4,\n",
    "         pin_memory=False\n",
    "    )\n",
    "\n",
    "    images = []\n",
    "    for i, x in enumerate(dataloader):\n",
    "        images.extend(x[0].chunk(x[0].size(0)))\n",
    "        if len(images) >= num_images:\n",
    "            break\n",
    "    images = torch.cat(images, 0).permute(0, 2, 3, 1).reshape(-1, 3).numpy()\n",
    "    c = 3 if dataset_name is None else latents.shape[-1]\n",
    "        \n",
    "    kmeans = faiss.Kmeans(c, k, niter=niter, verbose=verbose)\n",
    "    kmeans.train(images)\n",
    "\n",
    "    return kmeans\n"
   ]
  },
  {
   "cell_type": "code",
   "execution_count": 112,
   "metadata": {},
   "outputs": [
    {
     "name": "stdout",
     "output_type": "stream",
     "text": [
      "Files already downloaded and verified\n",
      "Sampling a subset of 1048576 / 2097152 for training\n",
      "Clustering 1048576 points in 3D to 4096 clusters, redo 1 times, 100 iterations\n",
      "  Preprocessing in 0.07 s\n",
      "  Iteration 99 (17.96 s, search 11.95 s): objective=289.303 imbalance=1.530 nsplit=0       \n"
     ]
    }
   ],
   "source": [
    "kmeans = get_kmeans_clusters(\"cifar\", k=4096, image_size=32, num_images=2000)"
   ]
  },
  {
   "cell_type": "code",
   "execution_count": 113,
   "metadata": {},
   "outputs": [
    {
     "data": {
      "text/plain": [
       "<matplotlib.image.AxesImage at 0x7f6780388cd0>"
      ]
     },
     "execution_count": 113,
     "metadata": {},
     "output_type": "execute_result"
    },
    {
     "data": {
      "image/png": "[encoded data removed]",
      "text/plain": [
       "<Figure size 640x480 with 1 Axes>"
      ]
     },
     "metadata": {},
     "output_type": "display_data"
    }
   ],
   "source": [
    "import matplotlib.pyplot as plt\n",
    "\n",
    "centroids = torch.from_numpy(kmeans.centroids)[:,None,:]\n",
    "centroids = centroids[:100].repeat_interleave(100,1)\n",
    "plt.imshow(centroids)"
   ]
  },
  {
   "cell_type": "code",
   "execution_count": null,
   "metadata": {},
   "outputs": [],
   "source": []
  }
 ],
 "metadata": {
  "kernelspec": {
   "display_name": "base",
   "language": "python",
   "name": "python3"
  },
  "language_info": {
   "codemirror_mode": {
    "name": "ipython",
    "version": 3
   },
   "file_extension": ".py",
   "mimetype": "text/x-python",
   "name": "python",
   "nbconvert_exporter": "python",
   "pygments_lexer": "ipython3",
   "version": "3.11.5"
  }
 },
 "nbformat": 4,
 "nbformat_minor": 2
}
